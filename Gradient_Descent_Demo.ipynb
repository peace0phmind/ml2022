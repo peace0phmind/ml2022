{
 "cells": [
  {
   "cell_type": "code",
   "execution_count": 1,
   "id": "cdf9fadb-90e7-4ec5-82dc-a15cf5dc8221",
   "metadata": {},
   "outputs": [],
   "source": [
    "import numpy as np\n",
    "import matplotlib.pyplot as plt"
   ]
  },
  {
   "cell_type": "code",
   "execution_count": 2,
   "id": "78c2aa92-7d67-4726-b058-6059a4ac6dd5",
   "metadata": {},
   "outputs": [],
   "source": [
    "x_data = [ 338., 333., 328., 207., 226., 25., 179., 60., 208., 606.]\n",
    "y_data = [ 640., 633., 619., 393., 428., 27., 193., 66., 226., 1591.]\n",
    "# y_data = b + w * x_data"
   ]
  },
  {
   "cell_type": "code",
   "execution_count": 3,
   "id": "25f51a2d-6617-4ebd-9d66-2091601fa2b8",
   "metadata": {},
   "outputs": [],
   "source": [
    "x = np.arange(-200, -100, 1) # bias\n",
    "y = np.arange(-5, 5, 0.1) # weight\n",
    "Z = np.zeros((len(x), len(y)))\n",
    "X, Y = np.meshgrid(x, y)\n",
    "\n",
    "for i in range(len(x)):\n",
    "    for j in range(len(y)):\n",
    "        b = x[i]\n",
    "        w = y[j]\n",
    "        Z[j][i] = 0\n",
    "        for n in range(len(x_data)):\n",
    "            Z[j][i] = Z[j][i] + (y_data[n] -b + w*x_data[n])**2\n",
    "        Z[j][i] = Z[j][i]/len(x_data)"
   ]
  },
  {
   "cell_type": "code",
   "execution_count": 7,
   "id": "396161cf-a715-4422-b300-6ec5df886b49",
   "metadata": {},
   "outputs": [
    {
     "data": {
      "image/png": "[encoded data removed]",
      "text/plain": [
       "<Figure size 640x480 with 1 Axes>"
      ]
     },
     "metadata": {},
     "output_type": "display_data"
    }
   ],
   "source": [
    "# y_data = b + w * x_data\n",
    "b = -120\n",
    "w = -4\n",
    "lr = 0.000001 # learning rate\n",
    "iteration = 100000\n",
    "\n",
    "# Store initial values for plotting.\n",
    "b_history = [b]\n",
    "w_history = [w]\n",
    "\n",
    "# Iterations\n",
    "for i in range(iteration):\n",
    "    \n",
    "    b_grad = 0.0\n",
    "    w_grad = 0.0\n",
    "    for n in range(len(x_data)):\n",
    "        b_grad = b_grad - 2.0*(y_data[n] - b - w*x_data[n])*1.0\n",
    "        w_grad = w_grad - 2.0*(y_data[n] - b - w*x_data[n])*x_data[n]\n",
    "        \n",
    "    # Update parameters.\n",
    "    b = b - lr * b_grad\n",
    "    w = w - lr * w_grad\n",
    "    \n",
    "    # Store parameters for plotting\n",
    "    b_history.append(b)\n",
    "    w_history.append(w)\n",
    "\n",
    "# plot the figure\n",
    "plt.contourf(x,y,Z, 50, alpha=0.5, cmap=plt.get_cmap('jet'))\n",
    "plt.plot([-188.4], [2.67], 'x', ms=12, markeredgewidth=3, color='orange')\n",
    "plt.plot(b_history, w_history, 'o-', ms=3, lw=1.5, color='black')\n",
    "plt.xlim(-200, -100)\n",
    "plt.ylim(-5, 5)\n",
    "plt.xlabel(r'$b$', fontsize=16)\n",
    "plt.ylabel(r'$w$', fontsize=16)\n",
    "plt.show()"
   ]
  },
  {
   "cell_type": "code",
   "execution_count": null,
   "id": "7363ca62-f930-4fae-8485-bcc0d4aa5ea0",
   "metadata": {},
   "outputs": [],
   "source": []
  }
 ],
 "metadata": {
  "kernelspec": {
   "display_name": "Python 3 (ipykernel)",
   "language": "python",
   "name": "python3"
  },
  "language_info": {
   "codemirror_mode": {
    "name": "ipython",
    "version": 3
   },
   "file_extension": ".py",
   "mimetype": "text/x-python",
   "name": "python",
   "nbconvert_exporter": "python",
   "pygments_lexer": "ipython3",
   "version": "3.8.13"
  }
 },
 "nbformat": 4,
 "nbformat_minor": 5
}
